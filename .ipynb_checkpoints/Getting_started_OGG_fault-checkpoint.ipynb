{
 "cells": [
  {
   "cell_type": "code",
   "execution_count": 1,
   "id": "ac240dda",
   "metadata": {},
   "outputs": [],
   "source": [
    "import os\n",
    "import shutil\n",
    "from pathlib import Path\n",
    "\n",
    "import pyvista as pv\n",
    "import ogstools as ot\n",
    "import ogstools.variables as ov\n",
    "\n",
    "import matplotlib.pyplot as plt\n",
    "import numpy as np\n",
    "\n",
    "from meshing import create_fractured_cube_centered"
   ]
  },
  {
   "cell_type": "markdown",
   "id": "662a2a79-5283-41d9-86dc-8a10d258f2c8",
   "metadata": {},
   "source": [
    "\n",
    "More examples of small deformation at: https://www.opengeosys.org/docs/benchmarks/small-deformations/"
   ]
  },
  {
   "cell_type": "code",
   "execution_count": 2,
   "id": "89efd03c-6163-4ba0-9e00-a8bc12c93843",
   "metadata": {},
   "outputs": [],
   "source": [
    "OGS_PATH = None\n",
    "\n",
    "if OGS_PATH is not None:\n",
    "    os.environ[\"OGS_BIN_PATH\"] = OGS_PATH\n",
    "OUT_DIR = Path(os.environ.get(\"OGS_TESTRUNNER_OUT_DIR\", \"_out\"))\n",
    "MESH_DIR = OUT_DIR / \"mesh\"\n",
    "shutil.rmtree(OUT_DIR, ignore_errors=True)\n",
    "MESH_DIR.mkdir(parents=True, exist_ok=True)"
   ]
  },
  {
   "cell_type": "markdown",
   "id": "93968abb-0242-4bcb-9546-ec67207c7dd0",
   "metadata": {},
   "source": [
    "## 3D mesh"
   ]
  },
  {
   "cell_type": "code",
   "execution_count": 3,
   "id": "9c2ec803-5826-4983-9ec3-5e06febf895b",
   "metadata": {},
   "outputs": [
    {
     "name": "stderr",
     "output_type": "stream",
     "text": [
      "Warning : 11 ill-shaped tets are still in the mesh\n",
      "Warning : 15 ill-shaped tets are still in the mesh\n",
      "Warning : ------------------------------\n",
      "Warning : Mesh generation error summary\n",
      "Warning :     2 warnings\n",
      "Warning :     0 errors\n",
      "Warning : Check the full log for details\n",
      "Warning : ------------------------------\n"
     ]
    },
    {
     "name": "stdout",
     "output_type": "stream",
     "text": [
      "\n"
     ]
    }
   ],
   "source": [
    "\n",
    "MSH_FILE = MESH_DIR / \"cube_frac_v.msh\"\n",
    "MSH_FILE.parent.mkdir(parents=True, exist_ok=True)\n",
    "\n",
    "\n",
    "create_fractured_cube_centered(\n",
    "    MSH_FILE,\n",
    "    lc=10, lc_frac=5, L=100.0, H=100.0, T=100.0,\n",
    "    theta_deg=0.0, b=5,\n",
    "    center_z=-200.0,\n",
    ")\n",
    "\n",
    "assert MSH_FILE.is_file(), f\"Mesh not written: {MSH_FILE}\"\n",
    "\n",
    "\n",
    "def export_vtu_sets(msh_file: Path):\n",
    "    out_dir = msh_file.parent\n",
    "    if not msh_file.is_file():\n",
    "        raise FileNotFoundError(f\"Mesh not found: {msh_file}\")\n",
    "\n",
    "    meshes_dom = ot.meshes_from_gmsh(msh_file, dim=[3], log=False)\n",
    "    for name, mesh in meshes_dom.items():\n",
    "        pv.save_meshio(out_dir / f\"{name}.vtu\", mesh)\n",
    "\n",
    "\n",
    "export_vtu_sets(MSH_FILE)"
   ]
  },
  {
   "cell_type": "code",
   "execution_count": 4,
   "id": "e1512cf4-80f4-4b6e-bd99-61f2af35d2c3",
   "metadata": {},
   "outputs": [
    {
     "name": "stdout",
     "output_type": "stream",
     "text": [
      "[2025-10-07 14:21:11.031] [ogs] [\u001b[32minfo\u001b[m] Reordering nodes... \n",
      "[2025-10-07 14:21:11.084] [ogs] [\u001b[32minfo\u001b[m] Corrected 0 elements.\n",
      "[2025-10-07 14:21:11.168] [ogs] [\u001b[32minfo\u001b[m] VTU file written.\n",
      "[2025-10-07 14:21:11.459] [ogs] [\u001b[32minfo\u001b[m] Mesh reading time: 0.097287 s\n",
      "[2025-10-07 14:21:11.461] [ogs] [\u001b[32minfo\u001b[m] MeshNodeSearcher construction time: 0.001963 s\n",
      "[2025-10-07 14:21:11.461] [ogs] [\u001b[32minfo\u001b[m] identifySubdomainMesh(): identifySubdomainMeshNodes took 9e-06 s\n",
      "[2025-10-07 14:21:11.461] [ogs] [\u001b[33m\u001b[1mwarning\u001b[m] There is already a 'bulk_node_ids' property present in the subdomain mesh 'physical_group_F_BACK' and it is not equal to the newly computed values.\n",
      "[2025-10-07 14:21:11.461] [ogs] [\u001b[32minfo\u001b[m] Overwriting 'bulk_node_ids' property.\n",
      "[2025-10-07 14:21:11.468] [ogs] [\u001b[32minfo\u001b[m] identifySubdomainMesh(): identifySubdomainMeshElements took 0.007042 s\n",
      "[2025-10-07 14:21:11.468] [ogs] [\u001b[32minfo\u001b[m] identifySubdomainMesh(): identifySubdomainMeshNodes took 0.000115 s\n",
      "[2025-10-07 14:21:11.468] [ogs] [\u001b[33m\u001b[1mwarning\u001b[m] There is already a 'bulk_node_ids' property present in the subdomain mesh 'physical_group_F_BOTTOM' and it is not equal to the newly computed values.\n",
      "[2025-10-07 14:21:11.468] [ogs] [\u001b[32minfo\u001b[m] Overwriting 'bulk_node_ids' property.\n",
      "[2025-10-07 14:21:11.476] [ogs] [\u001b[32minfo\u001b[m] identifySubdomainMesh(): identifySubdomainMeshElements took 0.00818 s\n",
      "[2025-10-07 14:21:11.477] [ogs] [\u001b[32minfo\u001b[m] identifySubdomainMesh(): identifySubdomainMeshNodes took 0.00027 s\n",
      "[2025-10-07 14:21:11.477] [ogs] [\u001b[33m\u001b[1mwarning\u001b[m] There is already a 'bulk_node_ids' property present in the subdomain mesh 'physical_group_F_FRAC_L' and it is not equal to the newly computed values.\n",
      "[2025-10-07 14:21:11.477] [ogs] [\u001b[32minfo\u001b[m] Overwriting 'bulk_node_ids' property.\n",
      "[2025-10-07 14:21:11.489] [ogs] [\u001b[32minfo\u001b[m] identifySubdomainMesh(): identifySubdomainMeshElements took 0.01243 s\n",
      "[2025-10-07 14:21:11.490] [ogs] [\u001b[32minfo\u001b[m] identifySubdomainMesh(): identifySubdomainMeshNodes took 0.000397 s\n",
      "[2025-10-07 14:21:11.490] [ogs] [\u001b[33m\u001b[1mwarning\u001b[m] There is already a 'bulk_node_ids' property present in the subdomain mesh 'physical_group_F_FRAC_M' and it is not equal to the newly computed values.\n",
      "[2025-10-07 14:21:11.490] [ogs] [\u001b[32minfo\u001b[m] Overwriting 'bulk_node_ids' property.\n",
      "[2025-10-07 14:21:11.498] [ogs] [\u001b[32minfo\u001b[m] identifySubdomainMesh(): identifySubdomainMeshElements took 0.008277 s\n",
      "[2025-10-07 14:21:11.498] [ogs] [\u001b[32minfo\u001b[m] identifySubdomainMesh(): identifySubdomainMeshNodes took 0.000249 s\n",
      "[2025-10-07 14:21:11.498] [ogs] [\u001b[33m\u001b[1mwarning\u001b[m] There is already a 'bulk_node_ids' property present in the subdomain mesh 'physical_group_F_FRAC_U' and it is not equal to the newly computed values.\n",
      "[2025-10-07 14:21:11.498] [ogs] [\u001b[32minfo\u001b[m] Overwriting 'bulk_node_ids' property.\n",
      "[2025-10-07 14:21:11.510] [ogs] [\u001b[32minfo\u001b[m] identifySubdomainMesh(): identifySubdomainMeshElements took 0.011829 s\n",
      "[2025-10-07 14:21:11.510] [ogs] [\u001b[32minfo\u001b[m] identifySubdomainMesh(): identifySubdomainMeshNodes took 1.5e-05 s\n",
      "[2025-10-07 14:21:11.510] [ogs] [\u001b[33m\u001b[1mwarning\u001b[m] There is already a 'bulk_node_ids' property present in the subdomain mesh 'physical_group_F_FRONT' and it is not equal to the newly computed values.\n",
      "[2025-10-07 14:21:11.510] [ogs] [\u001b[32minfo\u001b[m] Overwriting 'bulk_node_ids' property.\n",
      "[2025-10-07 14:21:11.517] [ogs] [\u001b[32minfo\u001b[m] identifySubdomainMesh(): identifySubdomainMeshElements took 0.006931 s\n",
      "[2025-10-07 14:21:11.517] [ogs] [\u001b[32minfo\u001b[m] identifySubdomainMesh(): identifySubdomainMeshNodes took 0.000174 s\n",
      "[2025-10-07 14:21:11.517] [ogs] [\u001b[33m\u001b[1mwarning\u001b[m] There is already a 'bulk_node_ids' property present in the subdomain mesh 'physical_group_F_LEFT' and it is not equal to the newly computed values.\n",
      "[2025-10-07 14:21:11.517] [ogs] [\u001b[32minfo\u001b[m] Overwriting 'bulk_node_ids' property.\n",
      "[2025-10-07 14:21:11.525] [ogs] [\u001b[32minfo\u001b[m] identifySubdomainMesh(): identifySubdomainMeshElements took 0.008129 s\n",
      "[2025-10-07 14:21:11.526] [ogs] [\u001b[32minfo\u001b[m] identifySubdomainMesh(): identifySubdomainMeshNodes took 0.000183 s\n",
      "[2025-10-07 14:21:11.526] [ogs] [\u001b[33m\u001b[1mwarning\u001b[m] There is already a 'bulk_node_ids' property present in the subdomain mesh 'physical_group_F_RIGHT' and it is not equal to the newly computed values.\n",
      "[2025-10-07 14:21:11.526] [ogs] [\u001b[32minfo\u001b[m] Overwriting 'bulk_node_ids' property.\n",
      "[2025-10-07 14:21:11.534] [ogs] [\u001b[32minfo\u001b[m] identifySubdomainMesh(): identifySubdomainMeshElements took 0.0083 s\n",
      "[2025-10-07 14:21:11.534] [ogs] [\u001b[32minfo\u001b[m] identifySubdomainMesh(): identifySubdomainMeshNodes took 0.000113 s\n",
      "[2025-10-07 14:21:11.534] [ogs] [\u001b[33m\u001b[1mwarning\u001b[m] There is already a 'bulk_node_ids' property present in the subdomain mesh 'physical_group_F_TOP' and it is not equal to the newly computed values.\n",
      "[2025-10-07 14:21:11.534] [ogs] [\u001b[32minfo\u001b[m] Overwriting 'bulk_node_ids' property.\n",
      "[2025-10-07 14:21:11.542] [ogs] [\u001b[32minfo\u001b[m] identifySubdomainMesh(): identifySubdomainMeshElements took 0.008445 s\n",
      "[2025-10-07 14:21:11.542] [ogs] [\u001b[32minfo\u001b[m] identifySubdomainMesh(): identifySubdomainMeshNodes took 1e-06 s\n",
      "[2025-10-07 14:21:11.542] [ogs] [\u001b[33m\u001b[1mwarning\u001b[m] There is already a 'bulk_node_ids' property present in the subdomain mesh 'physical_group_CENTER' and it is not equal to the newly computed values.\n",
      "[2025-10-07 14:21:11.542] [ogs] [\u001b[32minfo\u001b[m] Overwriting 'bulk_node_ids' property.\n",
      "[2025-10-07 14:21:11.549] [ogs] [\u001b[32minfo\u001b[m] identifySubdomainMesh(): identifySubdomainMeshElements took 0.006591 s\n",
      "[2025-10-07 14:21:11.549] [ogs] [\u001b[32minfo\u001b[m] identifySubdomains time: 0.088132 s\n",
      "[2025-10-07 14:21:11.558] [ogs] [\u001b[32minfo\u001b[m] writing time: 0.00862 s\n",
      "[2025-10-07 14:21:11.558] [ogs] [\u001b[32minfo\u001b[m] Entire run time: 0.196429 s\n"
     ]
    }
   ],
   "source": [
    "!NodeReordering -o ./_out/mesh/domain.vtu -i ./_out/mesh/domain.vtu \n",
    "import os\n",
    "mesh_dir = Path(\"_out/mesh\").resolve()\n",
    "cwd = Path.cwd()\n",
    "os.chdir(mesh_dir)\n",
    "!identifySubdomains -f -m domain.vtu -s 1e-8 --  physical_group_F_*.vtu physical_group_CENTER.vtu\n",
    "os.chdir(cwd)"
   ]
  },
  {
   "cell_type": "code",
   "execution_count": 5,
   "id": "31ffda43-ac4e-4765-baf5-46c12fdef944",
   "metadata": {},
   "outputs": [
    {
     "name": "stdout",
     "output_type": "stream",
     "text": [
      "\u001b[32minfo:\u001b[m OGS started on 2025-10-07 14:21:11+0200 in serial mode.\n",
      "\u001b[32minfo:\u001b[m This is OpenGeoSys-6 version 6.5.5-451-g6c380c40.dirty. Log version: 2, Log level: info.\n",
      "\u001b[32minfo:\u001b[m Eigen use 1 threads\n",
      "\u001b[32minfo:\u001b[m Reading project file HM_init_3D.prj.\n",
      "\u001b[32minfo:\u001b[m readRasters ...\n",
      "\u001b[32minfo:\u001b[m readRasters done\n",
      "\u001b[32minfo:\u001b[m ConstantParameter: E1\n",
      "\u001b[32minfo:\u001b[m ConstantParameter: nu1\n",
      "\u001b[32minfo:\u001b[m ConstantParameter: E2\n",
      "\u001b[32minfo:\u001b[m ConstantParameter: nu2\n",
      "\u001b[32minfo:\u001b[m ConstantParameter: p_injection_rate\n",
      "\u001b[32minfo:\u001b[m CurveScaledParameter: p_injection_ramp\n",
      "\u001b[32minfo:\u001b[m ConstantParameter: displacement0\n",
      "\u001b[32minfo:\u001b[m ConstantParameter: pressure_ic\n",
      "\u001b[32minfo:\u001b[m ConstantParameter: zero\n",
      "\u001b[32minfo:\u001b[m FunctionParameter: sigma0\n",
      "\u001b[32minfo:\u001b[m FunctionParameter: geo_stress\n",
      "\u001b[32minfo:\u001b[m FunctionParameter: water_pressure\n",
      "\u001b[32minfo:\u001b[m No source terms for process variable 'pressure' found.\n",
      "\u001b[32minfo:\u001b[m No source terms for process variable 'displacement' found.\n",
      "\u001b[32minfo:\u001b[m Threads used for ParallelVectorMatrixAssembler: 1. This is the default when OGS_ASM_THREADS environment variable is not set.\n",
      "\u001b[32minfo:\u001b[m HydroMechanicsProcess initializeSubmeshOutput().\n",
      "\u001b[32minfo:\u001b[m Initialize processes.\n",
      "\u001b[32minfo:\u001b[m Time step #0 started. Time: 0. Step size: 0.\n",
      "\u001b[32minfo:\u001b[m [time] Output of timestep 0 took 0.604048 s.\n",
      "\u001b[32minfo:\u001b[m Time step #0 took 0.899468 s.\n",
      "\u001b[32minfo:\u001b[m Solve processes.\n",
      "\u001b[32minfo:\u001b[m Time step #1 started. Time: 20. Step size: 20.\n",
      "\u001b[32minfo:\u001b[m Solving process #0 started.\n",
      "\u001b[32minfo:\u001b[m Iteration #1 started.\n",
      "\u001b[32minfo:\u001b[m [time] Assembly took 3.20634 s.\n",
      "\u001b[32minfo:\u001b[m [time] Applying Dirichlet BCs took 0.183045 s.\n",
      "\u001b[32minfo:\u001b[m ------------------------------------------------------------------\n",
      "\u001b[32minfo:\u001b[m *** Eigen solver compute()\n",
      "\u001b[32minfo:\u001b[m -> scale\n",
      "\u001b[32minfo:\u001b[m -> compute with Eigen direct linear solver SparseLU\n",
      "^C\n",
      "\u001b[31m\u001b[1merror:\u001b[m Simulation aborted on 2025-10-07 14:24:12+0200. Received signal: 2.\n"
     ]
    }
   ],
   "source": [
    "!ogs HM_init_3D.prj -m ./_out/mesh -o ./_out/"
   ]
  },
  {
   "cell_type": "code",
   "execution_count": null,
   "id": "6bc72569-07c9-48c1-b729-f784c75d29b1",
   "metadata": {},
   "outputs": [],
   "source": []
  },
  {
   "cell_type": "code",
   "execution_count": null,
   "id": "c4a04944-e3bf-4901-b3d6-d1935451f4bd",
   "metadata": {},
   "outputs": [],
   "source": []
  }
 ],
 "metadata": {
  "kernelspec": {
   "display_name": "Python 3 (ipykernel)",
   "language": "python",
   "name": "python3"
  },
  "language_info": {
   "codemirror_mode": {
    "name": "ipython",
    "version": 3
   },
   "file_extension": ".py",
   "mimetype": "text/x-python",
   "name": "python",
   "nbconvert_exporter": "python",
   "pygments_lexer": "ipython3",
   "version": "3.13.3"
  }
 },
 "nbformat": 4,
 "nbformat_minor": 5
}
