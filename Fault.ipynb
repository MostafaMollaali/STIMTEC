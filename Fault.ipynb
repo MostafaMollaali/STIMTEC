{
 "cells": [
  {
   "cell_type": "code",
   "execution_count": 1,
   "id": "ac240dda",
   "metadata": {},
   "outputs": [],
   "source": [
    "import os\n",
    "import shutil\n",
    "from pathlib import Path\n",
    "import os\n",
    "from pathlib import Path\n",
    "\n",
    "import matplotlib.pyplot as plt\n",
    "import numpy as np\n",
    "import ogstools as ot\n",
    "import pyvista as pv\n",
    "import ogstools as ot\n",
    "import ogstools.variables as ov\n",
    "\n",
    "import matplotlib.pyplot as plt\n",
    "import numpy as np\n",
    "import os\n",
    "from subprocess import run\n",
    "\n",
    "from meshing import create_fractured_cube_centered"
   ]
  },
  {
   "cell_type": "markdown",
   "id": "662a2a79-5283-41d9-86dc-8a10d258f2c8",
   "metadata": {},
   "source": [
    "## Path"
   ]
  },
  {
   "cell_type": "code",
   "execution_count": 2,
   "id": "89efd03c-6163-4ba0-9e00-a8bc12c93843",
   "metadata": {},
   "outputs": [],
   "source": [
    "OGS_PATH = None\n",
    "\n",
    "if OGS_PATH is not None:\n",
    "    os.environ[\"OGS_BIN_PATH\"] = OGS_PATH\n",
    "out_dir = Path(os.environ.get(\"OGS_TESTRUNNER_out_dir\", \"_out\"))\n",
    "out_dir.mkdir(parents=True, exist_ok=True)\n",
    "shutil.rmtree(out_dir, ignore_errors=True)\n",
    "\n",
    "\n",
    "mesh_dir = out_dir / \"mesh\""
   ]
  },
  {
   "cell_type": "markdown",
   "id": "93968abb-0242-4bcb-9546-ec67207c7dd0",
   "metadata": {},
   "source": [
    "## 3D mesh"
   ]
  },
  {
   "cell_type": "code",
   "execution_count": 3,
   "id": "9c2ec803-5826-4983-9ec3-5e06febf895b",
   "metadata": {},
   "outputs": [
    {
     "name": "stderr",
     "output_type": "stream",
     "text": [
      "Warning : 2 ill-shaped tets are still in the mesh\n",
      "Warning : 1 ill-shaped tets are still in the mesh\n",
      "Warning : ------------------------------\n",
      "Warning : Mesh generation error summary\n",
      "Warning :     2 warnings\n",
      "Warning :     0 errors\n",
      "Warning : Check the full log for details\n",
      "Warning : ------------------------------\n"
     ]
    }
   ],
   "source": [
    "\n",
    "MSH_FILE = mesh_dir / \"cube_frac_v.msh\"\n",
    "MSH_FILE.parent.mkdir(parents=True, exist_ok=True)\n",
    "center_z = -100\n",
    "\n",
    "create_fractured_cube_centered(\n",
    "    MSH_FILE,\n",
    "    lc=10, lc_frac=2, L=50.0, H=50.0, T=50.0,\n",
    "    theta_deg=0.0, b=2,\n",
    "    center_z=center_z,\n",
    ")  # structured mesh : b = 4*lc_frac\n",
    "\n",
    "assert MSH_FILE.is_file(), f\"Mesh not written: {MSH_FILE}\""
   ]
  },
  {
   "cell_type": "code",
   "execution_count": 4,
   "id": "5ff5b5b7-e41c-42b1-bbe3-20c1cdac80bd",
   "metadata": {},
   "outputs": [
    {
     "name": "stdout",
     "output_type": "stream",
     "text": [
      "\n"
     ]
    }
   ],
   "source": [
    "def export_vtu_sets(msh_file: Path):\n",
    "    out_dir = msh_file.parent\n",
    "    if not msh_file.is_file():\n",
    "        raise FileNotFoundError(f\"Mesh not found: {msh_file}\")\n",
    "\n",
    "    meshes_dom = ot.meshes_from_gmsh(msh_file, dim=[3], log=False)\n",
    "    for name, mesh in meshes_dom.items():\n",
    "        pv.save_meshio(out_dir / f\"{name}.vtu\", mesh)\n",
    "\n",
    "\n",
    "export_vtu_sets(MSH_FILE)"
   ]
  },
  {
   "cell_type": "code",
   "execution_count": 18,
   "id": "e1512cf4-80f4-4b6e-bd99-61f2af35d2c3",
   "metadata": {},
   "outputs": [
    {
     "name": "stdout",
     "output_type": "stream",
     "text": [
      "[2025-10-08 11:52:46.599] [ogs] [info] Reordering nodes... \n",
      "[2025-10-08 11:52:46.608] [ogs] [info] Corrected 0 elements.\n",
      "[2025-10-08 11:52:46.626] [ogs] [info] VTU file written.\n",
      "[2025-10-08 11:52:46.696] [ogs] [info] Mesh reading time: 0.0287932 s\n",
      "[2025-10-08 11:52:46.697] [ogs] [info] MeshNodeSearcher construction time: 0.00061162 s\n",
      "[2025-10-08 11:52:46.697] [ogs] [info] identifySubdomainMesh(): identifySubdomainMeshNodes took 1.1999e-05 s\n",
      "[2025-10-08 11:52:46.697] [ogs] [info] There is already a 'bulk_node_ids' property present in the subdomain mesh 'physical_group_F_BACK' and it is equal to the newly computed values.\n",
      "[2025-10-08 11:52:46.700] [ogs] [info] identifySubdomainMesh(): identifySubdomainMeshElements took 0.00389715 s\n",
      "[2025-10-08 11:52:46.700] [ogs] [info] There is already a 'bulk_element_ids' property present in the subdomain mesh 'physical_group_F_BACK' and it is equal to the newly computed values.\n",
      "[2025-10-08 11:52:46.701] [ogs] [info] identifySubdomainMesh(): identifySubdomainMeshNodes took 5.6037e-05 s\n",
      "[2025-10-08 11:52:46.701] [ogs] [info] There is already a 'bulk_node_ids' property present in the subdomain mesh 'physical_group_F_BOTTOM' and it is equal to the newly computed values.\n",
      "[2025-10-08 11:52:46.703] [ogs] [info] identifySubdomainMesh(): identifySubdomainMeshElements took 0.0024964 s\n",
      "[2025-10-08 11:52:46.703] [ogs] [info] There is already a 'bulk_element_ids' property present in the subdomain mesh 'physical_group_F_BOTTOM' and it is equal to the newly computed values.\n",
      "[2025-10-08 11:52:46.703] [ogs] [info] identifySubdomainMesh(): identifySubdomainMeshNodes took 6.5267e-05 s\n",
      "[2025-10-08 11:52:46.703] [ogs] [info] There is already a 'bulk_node_ids' property present in the subdomain mesh 'physical_group_F_FRAC_L' and it is equal to the newly computed values.\n",
      "[2025-10-08 11:52:46.706] [ogs] [info] identifySubdomainMesh(): identifySubdomainMeshElements took 0.00258906 s\n",
      "[2025-10-08 11:52:46.706] [ogs] [info] There is already a 'number_bulk_elements' property present in the subdomain mesh 'physical_group_F_FRAC_L' and it is equal to the newly computed values.\n",
      "[2025-10-08 11:52:46.706] [ogs] [info] There is already a 'bulk_element_ids' property present in the subdomain mesh 'physical_group_F_FRAC_L' and it is equal to the newly computed values.\n",
      "[2025-10-08 11:52:46.706] [ogs] [info] identifySubdomainMesh(): identifySubdomainMeshNodes took 0.000105934 s\n",
      "[2025-10-08 11:52:46.706] [ogs] [info] There is already a 'bulk_node_ids' property present in the subdomain mesh 'physical_group_F_FRAC_M' and it is equal to the newly computed values.\n",
      "[2025-10-08 11:52:46.708] [ogs] [info] identifySubdomainMesh(): identifySubdomainMeshElements took 0.00233206 s\n",
      "[2025-10-08 11:52:46.708] [ogs] [info] There is already a 'number_bulk_elements' property present in the subdomain mesh 'physical_group_F_FRAC_M' and it is equal to the newly computed values.\n",
      "[2025-10-08 11:52:46.708] [ogs] [info] There is already a 'bulk_element_ids' property present in the subdomain mesh 'physical_group_F_FRAC_M' and it is equal to the newly computed values.\n",
      "[2025-10-08 11:52:46.709] [ogs] [info] identifySubdomainMesh(): identifySubdomainMeshNodes took 8.1024e-05 s\n",
      "[2025-10-08 11:52:46.709] [ogs] [info] There is already a 'bulk_node_ids' property present in the subdomain mesh 'physical_group_F_FRAC_U' and it is equal to the newly computed values.\n",
      "[2025-10-08 11:52:46.712] [ogs] [info] identifySubdomainMesh(): identifySubdomainMeshElements took 0.00380421 s\n",
      "[2025-10-08 11:52:46.713] [ogs] [info] There is already a 'number_bulk_elements' property present in the subdomain mesh 'physical_group_F_FRAC_U' and it is equal to the newly computed values.\n",
      "[2025-10-08 11:52:46.713] [ogs] [info] There is already a 'bulk_element_ids' property present in the subdomain mesh 'physical_group_F_FRAC_U' and it is equal to the newly computed values.\n",
      "[2025-10-08 11:52:46.713] [ogs] [info] identifySubdomainMesh(): identifySubdomainMeshNodes took 2.0964e-05 s\n",
      "[2025-10-08 11:52:46.713] [ogs] [info] There is already a 'bulk_node_ids' property present in the subdomain mesh 'physical_group_F_FRONT' and it is equal to the newly computed values.\n",
      "[2025-10-08 11:52:46.715] [ogs] [info] identifySubdomainMesh(): identifySubdomainMeshElements took 0.00234223 s\n",
      "[2025-10-08 11:52:46.716] [ogs] [info] There is already a 'bulk_element_ids' property present in the subdomain mesh 'physical_group_F_FRONT' and it is equal to the newly computed values.\n",
      "[2025-10-08 11:52:46.716] [ogs] [info] identifySubdomainMesh(): identifySubdomainMeshNodes took 7.9535e-05 s\n",
      "[2025-10-08 11:52:46.716] [ogs] [info] There is already a 'bulk_node_ids' property present in the subdomain mesh 'physical_group_F_LEFT' and it is equal to the newly computed values.\n",
      "[2025-10-08 11:52:46.718] [ogs] [info] identifySubdomainMesh(): identifySubdomainMeshElements took 0.0022729 s\n",
      "[2025-10-08 11:52:46.718] [ogs] [info] There is already a 'bulk_element_ids' property present in the subdomain mesh 'physical_group_F_LEFT' and it is equal to the newly computed values.\n",
      "[2025-10-08 11:52:46.718] [ogs] [info] identifySubdomainMesh(): identifySubdomainMeshNodes took 6.8456e-05 s\n",
      "[2025-10-08 11:52:46.718] [ogs] [info] There is already a 'bulk_node_ids' property present in the subdomain mesh 'physical_group_F_RIGHT' and it is equal to the newly computed values.\n",
      "[2025-10-08 11:52:46.721] [ogs] [info] identifySubdomainMesh(): identifySubdomainMeshElements took 0.00223356 s\n",
      "[2025-10-08 11:52:46.721] [ogs] [info] There is already a 'bulk_element_ids' property present in the subdomain mesh 'physical_group_F_RIGHT' and it is equal to the newly computed values.\n",
      "[2025-10-08 11:52:46.721] [ogs] [info] identifySubdomainMesh(): identifySubdomainMeshNodes took 5.372e-05 s\n",
      "[2025-10-08 11:52:46.721] [ogs] [info] There is already a 'bulk_node_ids' property present in the subdomain mesh 'physical_group_F_TOP' and it is equal to the newly computed values.\n",
      "[2025-10-08 11:52:46.723] [ogs] [info] identifySubdomainMesh(): identifySubdomainMeshElements took 0.00225755 s\n",
      "[2025-10-08 11:52:46.723] [ogs] [info] There is already a 'bulk_element_ids' property present in the subdomain mesh 'physical_group_F_TOP' and it is equal to the newly computed values.\n",
      "[2025-10-08 11:52:46.723] [ogs] [info] identifySubdomainMesh(): identifySubdomainMeshNodes took 3.172e-06 s\n",
      "[2025-10-08 11:52:46.723] [ogs] [info] There is already a 'bulk_node_ids' property present in the subdomain mesh 'physical_group_L_BOT_BACK' and it is equal to the newly computed values.\n",
      "[2025-10-08 11:52:46.726] [ogs] [info] identifySubdomainMesh(): identifySubdomainMeshElements took 0.00254137 s\n",
      "[2025-10-08 11:52:46.726] [ogs] [info] There is already a 'number_bulk_elements' property present in the subdomain mesh 'physical_group_L_BOT_BACK' and it is equal to the newly computed values.\n",
      "[2025-10-08 11:52:46.726] [ogs] [info] There is already a 'bulk_element_ids' property present in the subdomain mesh 'physical_group_L_BOT_BACK' and it is equal to the newly computed values.\n",
      "[2025-10-08 11:52:46.726] [ogs] [info] identifySubdomainMesh(): identifySubdomainMeshNodes took 3.832e-06 s\n",
      "[2025-10-08 11:52:46.726] [ogs] [info] There is already a 'bulk_node_ids' property present in the subdomain mesh 'physical_group_L_BOT_FRONT' and it is equal to the newly computed values.\n",
      "[2025-10-08 11:52:46.728] [ogs] [info] identifySubdomainMesh(): identifySubdomainMeshElements took 0.00210454 s\n",
      "[2025-10-08 11:52:46.728] [ogs] [info] There is already a 'number_bulk_elements' property present in the subdomain mesh 'physical_group_L_BOT_FRONT' and it is equal to the newly computed values.\n",
      "[2025-10-08 11:52:46.728] [ogs] [info] There is already a 'bulk_element_ids' property present in the subdomain mesh 'physical_group_L_BOT_FRONT' and it is equal to the newly computed values.\n",
      "[2025-10-08 11:52:46.728] [ogs] [info] identifySubdomainMesh(): identifySubdomainMeshNodes took 5.593e-06 s\n",
      "[2025-10-08 11:52:46.728] [ogs] [info] There is already a 'bulk_node_ids' property present in the subdomain mesh 'physical_group_L_BOT_LEFT' and it is equal to the newly computed values.\n",
      "[2025-10-08 11:52:46.731] [ogs] [info] identifySubdomainMesh(): identifySubdomainMeshElements took 0.00245744 s\n",
      "[2025-10-08 11:52:46.731] [ogs] [info] There is already a 'number_bulk_elements' property present in the subdomain mesh 'physical_group_L_BOT_LEFT' and it is equal to the newly computed values.\n",
      "[2025-10-08 11:52:46.731] [ogs] [info] There is already a 'bulk_element_ids' property present in the subdomain mesh 'physical_group_L_BOT_LEFT' and it is equal to the newly computed values.\n",
      "[2025-10-08 11:52:46.731] [ogs] [info] identifySubdomainMesh(): identifySubdomainMeshNodes took 5.886e-06 s\n",
      "[2025-10-08 11:52:46.731] [ogs] [info] There is already a 'bulk_node_ids' property present in the subdomain mesh 'physical_group_L_BOT_RIGHT' and it is equal to the newly computed values.\n",
      "[2025-10-08 11:52:46.733] [ogs] [info] identifySubdomainMesh(): identifySubdomainMeshElements took 0.0021233 s\n",
      "[2025-10-08 11:52:46.733] [ogs] [info] There is already a 'number_bulk_elements' property present in the subdomain mesh 'physical_group_L_BOT_RIGHT' and it is equal to the newly computed values.\n",
      "[2025-10-08 11:52:46.733] [ogs] [info] There is already a 'bulk_element_ids' property present in the subdomain mesh 'physical_group_L_BOT_RIGHT' and it is equal to the newly computed values.\n",
      "[2025-10-08 11:52:46.733] [ogs] [info] identifySubdomainMesh(): identifySubdomainMeshNodes took 2.78e-06 s\n",
      "[2025-10-08 11:52:46.733] [ogs] [info] There is already a 'bulk_node_ids' property present in the subdomain mesh 'physical_group_CENTER' and it is equal to the newly computed values.\n",
      "[2025-10-08 11:52:46.736] [ogs] [info] identifySubdomainMesh(): identifySubdomainMeshElements took 0.00211527 s\n",
      "[2025-10-08 11:52:46.736] [ogs] [info] There is already a 'number_bulk_elements' property present in the subdomain mesh 'physical_group_CENTER' and it is equal to the newly computed values.\n",
      "[2025-10-08 11:52:46.736] [ogs] [info] There is already a 'bulk_element_ids' property present in the subdomain mesh 'physical_group_CENTER' and it is equal to the newly computed values.\n",
      "[2025-10-08 11:52:46.736] [ogs] [info] identifySubdomains time: 0.0392178 s\n",
      "[2025-10-08 11:52:46.741] [ogs] [info] writing time: 0.0052256 s\n",
      "[2025-10-08 11:52:46.741] [ogs] [info] Entire run time: 0.0740983 s\n"
     ]
    }
   ],
   "source": [
    "cwd = Path.cwd()\n",
    "os.chdir(mesh_dir)\n",
    "\n",
    "run(\n",
    "    f\"NodeReordering -o domain.vtu -i domain.vtu\",\n",
    "    shell=True,\n",
    "    check=True,\n",
    ")\n",
    "\n",
    "run(\n",
    "    \"identifySubdomains -f -m domain.vtu -s 1e-8 -- \"\n",
    "    \"physical_group_F_*.vtu  physical_group_L_*.vtu physical_group_CENTER.vtu\",\n",
    "    shell=True,\n",
    "    check=True,\n",
    ")\n",
    "\n",
    "os.chdir(cwd)"
   ]
  },
  {
   "cell_type": "code",
   "execution_count": null,
   "id": "0118c061-dc8b-42bb-8021-0dfa2dcdf72a",
   "metadata": {},
   "outputs": [],
   "source": []
  },
  {
   "cell_type": "markdown",
   "id": "c3323e4c-f67a-4e91-bd69-86f0679b56c2",
   "metadata": {},
   "source": [
    "## Material propertieses"
   ]
  },
  {
   "cell_type": "code",
   "execution_count": 19,
   "id": "115c505e-e93e-452e-94c0-c005a1a6b283",
   "metadata": {},
   "outputs": [],
   "source": [
    "gneiss = {\n",
    "    \"young_sample\": 83.9e9,\n",
    "    \"nu_sample\": 0.21,\n",
    "    \"biot\": 0.6,\n",
    "    \"porosity\": 0.001,\n",
    "    \"permeability\": 1e-19,\n",
    "    \"density_solid\": 2750,\n",
    "    \"w_init\": 1e-6,\n",
    "}\n",
    "\n",
    "fault = {\n",
    "    \"young_modulus\": gneiss[\"young_sample\"],\n",
    "    \"poisson_ratio\": gneiss[\"nu_sample\"],\n",
    "    \"biot\": gneiss[\"biot\"],\n",
    "    \"porosity\": gneiss[\"porosity\"],\n",
    "    \"density\": gneiss[\"density_solid\"],\n",
    "    \"permeability\": (gneiss[\"w_init\"] ** 2) / 12.0,\n",
    "}\n",
    "\n",
    "\n",
    "rho = 1000.0\n",
    "g = 9.81\n",
    "pmax = 5e6"
   ]
  },
  {
   "cell_type": "markdown",
   "id": "cce6803b-412e-4e71-9e5b-5bd4e35fa83a",
   "metadata": {},
   "source": [
    "## Run OGS"
   ]
  },
  {
   "cell_type": "code",
   "execution_count": 30,
   "id": "31ffda43-ac4e-4765-baf5-46c12fdef944",
   "metadata": {},
   "outputs": [
    {
     "name": "stdout",
     "output_type": "stream",
     "text": [
      "center_z = -100 m\n",
      "p0 = 0.981 MPa\n",
      "m0 = 0.19620\n",
      "coords: 0 500 600 700 800 900 1000\n",
      "values: 0.1962 0.1962 0.35696 0.51772 0.67848 0.83924 1\n"
     ]
    }
   ],
   "source": [
    "prj_in = Path(\"HM_init_3D.prj\")\n",
    "prj_out = out_dir / \"HM_init_3D_updated.prj\"\n",
    "\n",
    "\n",
    "matrix_mids = [0, 2]\n",
    "fault_mids = [1]\n",
    "\n",
    "prj = ot.Project(input_file=prj_in, output_file=prj_out)\n",
    "prj.replace_parameter_value(name=\"E1\", value=gneiss[\"young_sample\"])\n",
    "prj.replace_parameter_value(name=\"nu1\", value=gneiss[\"nu_sample\"])\n",
    "\n",
    "def set_medium_props(mid, biot, k_perm, poro, rho_solid):\n",
    "    prj.replace_medium_property_value(mediumid=mid, name=\"biot_coefficient\", value=biot)\n",
    "    prj.replace_medium_property_value(mediumid=mid, name=\"permeability\", value=k_perm)\n",
    "    prj.replace_medium_property_value(mediumid=mid, name=\"porosity\", value=poro)\n",
    "    prj.replace_phase_property_value(mediumid=mid, phase=\"Solid\", name=\"density\", value=rho_solid)\n",
    "\n",
    "for mid in matrix_mids:\n",
    "    set_medium_props(mid, gneiss[\"biot\"], gneiss[\"permeability\"], gneiss[\"porosity\"], gneiss[\"density_solid\"])\n",
    "\n",
    "for mid in fault_mids:\n",
    "    set_medium_props(mid, fault[\"biot\"], fault[\"permeability\"], fault[\"porosity\"], fault[\"density\"])\n",
    "\n",
    "\n",
    "p0 = rho * g * (-center_z)\n",
    "m0 = p0 / pmax\n",
    "m0 = max(0.0, min(1.0, m0))\n",
    "\n",
    "coords_str = \"0 500 600 700 800 900 1000\"\n",
    "vals = [\n",
    "    m0, m0,\n",
    "    m0 + (1 - m0) * 0.2,\n",
    "    m0 + (1 - m0) * 0.4,\n",
    "    m0 + (1 - m0) * 0.6,\n",
    "    m0 + (1 - m0) * 0.8,\n",
    "    1.0\n",
    "]\n",
    "values_str = \" \".join(f\"{v:.6g}\" for v in vals)\n",
    "\n",
    "print(f\"center_z = {center_z} m\")\n",
    "print(f\"p0 = {p0/1e6:.3f} MPa\")\n",
    "print(f\"m0 = {m0:.5f}\")\n",
    "print(\"coords:\", coords_str)\n",
    "print(\"values:\", values_str)\n",
    "prj.replace_text(\"timeRamp\", xpath=\"./curves/curve/name\")              \n",
    "prj.replace_text(coords_str, xpath=\"./curves/curve/coords\")\n",
    "prj.replace_text(values_str, xpath=\"./curves/curve/values\")\n",
    "prj.replace_parameter_value(name=\"p_injection_rate\", value=pmax)\n",
    "\n",
    "prj.replace_text(\"genesis_HM_init\", xpath=\"./time_loop/output/prefix\")\n",
    "prj.write_input()\n"
   ]
  },
  {
   "cell_type": "code",
   "execution_count": 31,
   "id": "6bc72569-07c9-48c1-b729-f784c75d29b1",
   "metadata": {},
   "outputs": [
    {
     "name": "stdout",
     "output_type": "stream",
     "text": [
      "Project file written to output.\n",
      "Simulation: _out/HM_init_3D_updated.prj\n",
      "Status: finished successfully.\n",
      "Execution took 137.35472559928894 s\n"
     ]
    }
   ],
   "source": [
    "prj.run_model(logfile=out_dir / \"ogs_run.txt\",\n",
    "              #path=\"~/Code/ogs6/build/release-lis/bin\",\n",
    "              #path=\"~/Code/ogs6/build/release-petsc/bin\",\n",
    "              args=f\"-o {out_dir} -m {mesh_dir}\")"
   ]
  },
  {
   "cell_type": "markdown",
   "id": "2264c5e9-fafe-434a-a50d-a558b57672af",
   "metadata": {},
   "source": [
    "## Post-processing"
   ]
  },
  {
   "cell_type": "code",
   "execution_count": 32,
   "id": "008d974b-3d5a-4a16-8308-a1a4557456cd",
   "metadata": {},
   "outputs": [
    {
     "data": {
      "application/vnd.jupyter.widget-view+json": {
       "model_id": "9551b7b0a1ef49f9a659566df9472b81",
       "version_major": 2,
       "version_minor": 0
      },
      "text/plain": [
       "Widget(value='<iframe src=\"http://localhost:43687/index.html?ui=P_0x7b914a023610_1&reconnect=auto\" class=\"pyvi…"
      ]
     },
     "metadata": {},
     "output_type": "display_data"
    }
   ],
   "source": [
    "ms_c = ot.MeshSeries(out_dir / \"genesis_HM_init.pvd\")\n",
    "mesh_c = ms_c[-1]\n",
    "\n",
    "disp = mesh_c.point_data[\"displacement\"]\n",
    "mesh_c.point_data[\"displacement_magnitude\"] = np.linalg.norm(disp, axis=1)\n",
    "\n",
    "plotter = pv.Plotter()\n",
    "plotter.add_mesh(\n",
    "    mesh_c,\n",
    "    scalars=\"displacement_magnitude\",\n",
    "    cmap=\"bwr\",\n",
    "    opacity=.95,\n",
    "    show_edges=True,\n",
    "    edge_color=\"black\",\n",
    "    scalar_bar_args={\"title\": \"Displacement magnitude (m)\"}\n",
    ")\n",
    "plotter.show_bounds(grid=\"front\", location=\"outer\", all_edges=True, xtitle=\"X\", ytitle=\"Y\", ztitle=\"Z\", font_size=12)\n",
    "plotter.add_axes()\n",
    "plotter.show()"
   ]
  },
  {
   "cell_type": "code",
   "execution_count": 33,
   "id": "050f3518-8c13-433e-99fb-7cd9f12f88fa",
   "metadata": {},
   "outputs": [
    {
     "name": "stderr",
     "output_type": "stream",
     "text": [
      "100%|████████████████████████████████████████████████████████████████████████████████████| 14/14 [00:00<00:00, 35.60it/s]\n"
     ]
    },
    {
     "data": {
      "image/png": "[encoded data removed]",
      "text/plain": [
       "<Figure size 600x400 with 1 Axes>"
      ]
     },
     "metadata": {},
     "output_type": "display_data"
    }
   ],
   "source": [
    "pvd_path = Path(\"_out/genesis_HM_init.pvd\")\n",
    "center = (0.0, 0.0, center_z)\n",
    "\n",
    "ms = ot.MeshSeries(pvd_path).scale(time=(\"s\", \"s\"))\n",
    "probe = ot.MeshSeries.extract_probe(ms, [center])\n",
    "\n",
    "t = probe.timevalues\n",
    "p_pa = probe.point_data[\"pressure\"][:, 0]\n",
    "p_mpa = p_pa / 1e6\n",
    "\n",
    "plt.figure(figsize=(6, 4))\n",
    "plt.plot(t, p_mpa, marker=\"o\", color=\"tab:blue\")\n",
    "plt.xlabel(\"Time [s]\")\n",
    "plt.ylabel(\"Pressure at center [MPa]\")\n",
    "plt.grid(True, linestyle=\":\", alpha=0.7)\n",
    "plt.tight_layout()\n",
    "plt.show()\n"
   ]
  },
  {
   "cell_type": "code",
   "execution_count": null,
   "id": "6201aca0-f33a-442c-85c7-c7ce34d224df",
   "metadata": {},
   "outputs": [],
   "source": []
  }
 ],
 "metadata": {
  "kernelspec": {
   "display_name": "Python 3 (ipykernel)",
   "language": "python",
   "name": "python3"
  },
  "language_info": {
   "codemirror_mode": {
    "name": "ipython",
    "version": 3
   },
   "file_extension": ".py",
   "mimetype": "text/x-python",
   "name": "python",
   "nbconvert_exporter": "python",
   "pygments_lexer": "ipython3",
   "version": "3.13.3"
  }
 },
 "nbformat": 4,
 "nbformat_minor": 5
}
